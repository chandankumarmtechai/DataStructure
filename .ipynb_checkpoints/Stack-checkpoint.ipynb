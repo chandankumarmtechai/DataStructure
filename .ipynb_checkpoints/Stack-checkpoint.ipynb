{
 "cells": [
  {
   "cell_type": "markdown",
   "metadata": {},
   "source": [
    "<h1 style=\"color:blue\"> Array <h1> \n"
   ]
  },
  {
   "cell_type": "markdown",
   "metadata": {},
   "source": [
    "<h2 style=\"color:blue\"> Basic concepts</h2> \n",
    "<blockquote style=\"background:lightgreen; color:blue; font-size:5x\">Array is not a data structure \n",
    "    concept. It is a mechanism for\n",
    "    allocating memory, accessing memory. We can think List is a data strucuture concept, then array is hardware \n",
    "    based implementation of list. List can be seen as group of items, it does not matter where items are \n",
    "    homogenous or hetrogenous, accessing items is random or sequential. Array takes continous word of storage \n",
    "    when it is created. \n",
    "</blockquote>"
   ]
  },
  {
   "cell_type": "markdown",
   "metadata": {},
   "source": [
    "<h2 style=\"color:blue\"> Design and implementation <h2> "
   ]
  },
  {
   "cell_type": "markdown",
   "metadata": {},
   "source": [
    "<h2 style=\"color:blue\"> Valid Operations <h2> "
   ]
  },
  {
   "cell_type": "markdown",
   "metadata": {},
   "source": [
    "<h2 style=\"color:blue\"> Popular questions <h2> "
   ]
  },
  {
   "cell_type": "code",
   "execution_count": null,
   "metadata": {},
   "outputs": [],
   "source": []
  }
 ],
 "metadata": {
  "kernelspec": {
   "display_name": "Python 3",
   "language": "python",
   "name": "python3"
  },
  "language_info": {
   "codemirror_mode": {
    "name": "ipython",
    "version": 3
   },
   "file_extension": ".py",
   "mimetype": "text/x-python",
   "name": "python",
   "nbconvert_exporter": "python",
   "pygments_lexer": "ipython3",
   "version": "3.7.7"
  }
 },
 "nbformat": 4,
 "nbformat_minor": 4
}
