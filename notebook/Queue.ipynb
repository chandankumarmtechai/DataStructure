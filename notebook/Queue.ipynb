{
 "cells": [
  {
   "cell_type": "markdown",
   "metadata": {},
   "source": [
    "<h1 style=\"color:blue\"> Queue <h1> \n"
   ]
  },
  {
   "cell_type": "markdown",
   "metadata": {},
   "source": [
    "<a id='id1'></a>\n",
    "<h2 style=\"color:blue\">Basic concepts</h2> \n",
    "<blockquote style=\"background:lightgreen; color:blue; font-size:5x\">Queue is data structure concept. \n",
    "    \n",
    "</blockquote>"
   ]
  },
  {
   "cell_type": "markdown",
   "metadata": {},
   "source": [
    "<a id='dai'></a>\n",
    "<h2 style=\"color:blue\"> Design and implementation </h2> \n",
    "\n",
    "[1. Implement Queue using Stacks](#dai1) <br>\n",
    "[2. LRU Cache Implementation](#dai2) <br>\n",
    "[3. Implement Stack using Queues](#dai3) <br>\n",
    "[4. Queue | Set 2 (Linked List Implementation)](#dai4) <br>\n",
    "[5. How to efficiently implement k Queues in a single array?](#dai5) <br>\n",
    "[6. Implement a stack using single queue](#dai6) <br>\n",
    "[7. Implementation of Deque using circular array](#dai7) <br>\n",
    "[8. Circular Queue | Set 2 (Circular Linked List Implementation)](#dai8) <br>\n",
    "[9. Implement Stack and Queue using Deque](#dai9) <br>\n",
    "[10. Priority Queue using Linked List](#dai10) <br>\n",
    "[11. Priority Queue using doubly linked list](#dai11) <br>\n",
    "[12. Implementation of Deque using doubly linked list](#dai12) <br>"
   ]
  },
  {
   "cell_type": "markdown",
   "metadata": {},
   "source": [
    "<a id='vo'></a>\n",
    "<h2 style=\"color:blue\"> Valid Operations </h2>\n",
    "\n",
    "[1. Reversing a Queue](#vo1) <br>\n",
    "[2. Reversing a queue using recursion](#vo2) <br>\n",
    "[3. Reversing the first K elements of a Queue](#vo3) <br>\n",
    "[4. Interleave the first half of the queue with second half](#vo4) <br>\n",
    "[5. Sorting a Queue without extra space](#vo5) <br>"
   ]
  },
  {
   "cell_type": "markdown",
   "metadata": {},
   "source": [
    "<a id='pq'></a>\n",
    "<h2 style=\"color:blue\"> Popular questions </h2> \n",
    "\n",
    "[1. Check if a queue can be sorted into another queue using a stack](#pq1) <br>\n",
    "[2. Breadth First Traversal or BFS for a Graph](#pq2) <br>\n",
    "[3. Level Order Tree Traversal](#pq3) <br>\n",
    "[4. Reverse a path in BST using queue](#pq4) <br>\n",
    "[5. Construct Complete Binary Tree from its Linked List Representation](#pq5) <br>\n",
    "[6. Program for Page Replacement Algorithms | Set 2 (FIFO)](#pq6) <br>\n",
    "[7. Check whether a given Binary Tree is Complete or not | Set 1 (Iterative Solution)](#pq7) <br>\n",
    "[8. Number of siblings of a given Node in n-ary Tree](#pq8) <br>\n",
    "[9. ZigZag Tree Traversal](#pq9) <br>\n",
    "[10. FIFO (First-In-First-Out) approach in Programming](#pq10) <br>\n",
    "[11. FIFO vs LIFO approach in Programming](#pq11) <br>\n",
    "[12. LIFO (Last-In-First-Out) approach in Programming](#pq12) <br>"
   ]
  },
  {
   "cell_type": "code",
   "execution_count": null,
   "metadata": {},
   "outputs": [],
   "source": []
  }
 ],
 "metadata": {
  "kernelspec": {
   "display_name": "Python 3 (ipykernel)",
   "language": "python",
   "name": "python3"
  },
  "language_info": {
   "codemirror_mode": {
    "name": "ipython",
    "version": 3
   },
   "file_extension": ".py",
   "mimetype": "text/x-python",
   "name": "python",
   "nbconvert_exporter": "python",
   "pygments_lexer": "ipython3",
   "version": "3.10.1"
  }
 },
 "nbformat": 4,
 "nbformat_minor": 4
}
