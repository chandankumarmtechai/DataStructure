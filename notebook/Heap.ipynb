{
 "cells": [
  {
   "cell_type": "markdown",
   "metadata": {},
   "source": [
    "<h1 style=\"color:blue\"> Heap <h1> \n"
   ]
  },
  {
   "cell_type": "markdown",
   "metadata": {},
   "source": [
    "<a id='id1'></a>\n",
    "<h2 style=\"color:blue\">Basic concepts</h2> \n",
    "<blockquote style=\"background:lightgreen; color:blue; font-size:5x\">Heap is data structure concept. \n",
    "    \n",
    "</blockquote>"
   ]
  },
  {
   "cell_type": "markdown",
   "metadata": {},
   "source": [
    "<a id='heap'></a>\n",
    "<h2 style=\"color:blue\"> Heap </h2> \n",
    "\n",
    "[1. Binary Heap](#heap) <br>\n",
    "[2. Time Complexity of building a heap](#heap) <br>\n",
    "[3. Applications of Heap Data Structure](#heap) <br>\n",
    "[4. Binomial Heap](#heap) <br>\n",
    "[5. Fibonacci Heap](#heap) <br>\n",
    "[6. Leftist Heap](#heap) <br>\n",
    "[7. K-ary Heap](#heap) <br>\n",
    "[8. Heap Sort](#heap8) <br>\n",
    "[9. Iterative Heap Sort](#heap8) <br>\n",
    "[10. K’th Largest Element in an array](#heap) <br>\n",
    "[11. K’th Smallest/Largest Element in Unsorted Array | Set 1](#heap) <br>\n",
    "[12. Sort an almost sorted array/](#heap) <br>\n",
    "[13. Tournament Tree (Winner Tree) and Binary Heap](#heap) <br>\n",
    "[14. Check if a given Binary Tree is Heap](#heap) <br>\n",
    "[15. How to check if a given array represents a Binary Heap?](#heap) <br>\n",
    "[16. Connect n ropes with minimum cost](#heap) <br>\n",
    "[17. Design an efficient data structure for given operations](#heap) <br>\n",
    "[18. Merge k sorted arrays | Set 1](#heap) <br>\n",
    "[19. Merge Sort Tree for Range Order Statistics](#heap) <br>\n",
    "[20. Sort numbers stored on different machines](#heap) <br>\n",
    "[21. Smallest Derangement of Sequence](#heap) <br>\n",
    "[22. Largest Derangement of a Sequence](#heap) <br>\n",
    "[23. K maximum sum combinations from two arrays](#heap) <br>\n",
    "[24. Maximum distinct elements after removing k elements](#heap) <br>\n",
    "[25. Maximum difference between two subsets of m elements](#heap) <br>\n",
    "[26. Height of a complete binary tree (or Heap) with N nodes](#heap) <br>\n",
    "[27. Heap Sort for decreasing order using min heap](#heap) <br>\n",
    "[28. Print all nodes less than a value x in a Min Heap.](#heap) <br>\n",
    "[29. Median of Stream of Running Integers using STL](#heap) <br>\n",
    "[30. Largest triplet product in a stream](#heap) <br>\n",
    "[31. Find k numbers with most occurrences in the given array](#heap) <br>\n",
    "[32. Convert BST to Min Heap](#heap) <br>\n",
    "[33. Merge two binary Max Heaps](#heap) <br>\n",
    "[34. K-th Largest Sum Contiguous Subarray](#heap) <br>\n",
    "[35. Minimum product of k integers in an array of positive Integers](#heap) <br>\n",
    "[36. Leaf starting point in a Binary Heap data structure](#heap) <br>\n",
    "[37. Why is Binary Heap Preferred over BST for Priority Queue?](#heap) <br>\n",
    "[38. Convert min Heap to max Heap](#heap) <br>\n",
    "[39. Given level order traversal of a Binary Tree, check if the Tree is a Min-Heap](#heap) <br>\n",
    "[40. Rearrange characters in a string such that no two adjacent are same](#heap) <br>\n",
    "[41. Implementation of Binomial Heap](#heap) <br>\n",
    "[42. Array Representation Of Binary Heap](#heap) <br>\n",
    "[43. Sum of all elements between k1’th and k2’th smallest elements](#heap) <br>\n",
    "[44. Minimum sum of two numbers formed from digits of an array](#heap) <br>\n",
    "[45. K’th largest element in a stream](#heap) <br>\n",
    "[46. k largest(or smallest) elements in an array | added Min Heap method](#heap) <br>\n",
    "[47. Median in a stream of integers (running integers)](#heap) <br>\n",
    "[48. Sort a nearly sorted (or K sorted) array](#heap) <br>"
   ]
  },
  {
   "cell_type": "markdown",
   "metadata": {},
   "source": [
    "<a id='heap1'></a>\n",
    "<h3 style=\"color:gray\">1. Binary Heap</h3>\n",
    "\n",
    "\n",
    "[Heap](#heap) "
   ]
  },
  {
   "cell_type": "markdown",
   "metadata": {},
   "source": [
    "<a id='heap2'></a>\n",
    "<h3 style=\"color:gray\">2. Time Complexity of building a heap </h3>\n",
    "\n",
    "\n",
    "[Heap](#heap) "
   ]
  },
  {
   "cell_type": "markdown",
   "metadata": {},
   "source": [
    "<a id='heap3'></a>\n",
    "<h3 style=\"color:gray\">3. Applications of Heap Data Structure </h3>\n",
    "\n",
    "\n",
    "[Heap](#heap) "
   ]
  },
  {
   "cell_type": "markdown",
   "metadata": {},
   "source": [
    "<a id='heap4'></a>\n",
    "<h3 style=\"color:gray\">4. Binomial Heap </h3>\n",
    "\n",
    "\n",
    "[Heap](#heap) "
   ]
  },
  {
   "cell_type": "markdown",
   "metadata": {},
   "source": [
    "<a id='heap5'></a>\n",
    "<h3 style=\"color:gray\">5. Fibonacci Heap </h3>\n",
    "\n",
    "\n",
    "[Heap](#heap) "
   ]
  },
  {
   "cell_type": "markdown",
   "metadata": {},
   "source": [
    "<a id='heap6'></a>\n",
    "<h3 style=\"color:gray\">6. Leftist Heap </h3>\n",
    "\n",
    "\n",
    "[Heap](#heap) "
   ]
  },
  {
   "cell_type": "markdown",
   "metadata": {},
   "source": [
    "<a id='heap7'></a>\n",
    "<h3 style=\"color:gray\">7. K-ary Heap </h3>\n",
    "\n",
    "\n",
    "[Heap](#heap) "
   ]
  },
  {
   "cell_type": "markdown",
   "metadata": {},
   "source": [
    "<a id='heap8'></a>\n",
    "<h3 style=\"color:gray\">8. Heap Sort </h3>\n",
    "\n",
    "```java\n",
    "\n",
    "public class Heap8\n",
    "{\n",
    "\tpublic static void heapify(int arr[], int n, int i)\n",
    "\t{\n",
    "\t\tint l = 2*i +1;\n",
    "\t\tint r = 2*i +2;\n",
    "\t\tint largest =i;\n",
    "\t\t\n",
    "\t\tif(l<n && arr[l] > arr[largest])\n",
    "\t\t\tlargest = l;\n",
    "\t\tif(r<n && arr[r] > arr[largest])\n",
    "\t\t\tlargest = r;\n",
    "\t\tif(largest != i)\n",
    "\t\t{\n",
    "\t\t\tint temp = arr[i];\n",
    "\t\t\tarr[i] = arr[largest];\n",
    "\t\t\tarr[largest] = temp;\n",
    "\t\t\theapify(arr, n, largest);\n",
    "\t\t}\n",
    "\t}\n",
    "\tpublic static void buildMaxHeap(int arr[])\n",
    "\t{\n",
    "\t\tint n = arr.length;\n",
    "\t\tfor(int i=n/2; i>=0; i--)\n",
    "\t\t{\n",
    "\t\t\theapify(arr, n, i);\n",
    "\t\t}\n",
    "\t}\n",
    "\tpublic static void sort(int arr[])\n",
    "\t{\n",
    "\t\tint n = arr.length;\n",
    "\t\tbuildMaxHeap(arr);\n",
    "\t\tfor(int i=n-1; i>0; i--)\n",
    "\t\t{\n",
    "\t\t\tint temp = arr[0];\n",
    "\t\t\tarr[0] = arr[i];\n",
    "\t\t\tarr[i] = temp;\n",
    "\t\t\theapify(arr, i, 0);\t\t}\n",
    "\t}\n",
    "\tpublic static void main(String args[])\n",
    "\t{\n",
    "\t\tint arr[] = {5,4,3,2,1};\n",
    "\t\tsort(arr);\n",
    "\t\t\n",
    "\t\tfor(int i=0; i<arr.length; i++)\n",
    "\t\t\tSystem.out.print(arr[i] + \" \");\n",
    "\t}\n",
    "}\n",
    "\n",
    "```\n",
    "\n",
    "\n",
    "[Heap](#heap) "
   ]
  },
  {
   "cell_type": "markdown",
   "metadata": {},
   "source": [
    "<a id='heap9'></a>\n",
    "<h3 style=\"color:gray\">9. Iterative Heap Sort </h3>\n",
    "\n",
    "\n",
    "[Heap](#heap) "
   ]
  },
  {
   "cell_type": "markdown",
   "metadata": {},
   "source": [
    "<a id='heap10'></a>\n",
    "<h3 style=\"color:gray\">10. K’th Largest Element in an array </h3>\n",
    "\n",
    "\n",
    "[Heap](#heap) "
   ]
  },
  {
   "cell_type": "markdown",
   "metadata": {},
   "source": [
    "<a id='heap11'></a>\n",
    "<h3 style=\"color:gray\">11. K’th Smallest/Largest Element in Unsorted Array | Set 1 </h3>\n",
    "\n",
    "\n",
    "[Heap](#heap) "
   ]
  },
  {
   "cell_type": "markdown",
   "metadata": {},
   "source": [
    "<a id='heap12'></a>\n",
    "<h3 style=\"color:gray\">12. Sort an almost sorted array/ </h3>\n",
    "\n",
    "\n",
    "[Heap](#heap) "
   ]
  },
  {
   "cell_type": "markdown",
   "metadata": {},
   "source": [
    "<a id='heap13'></a>\n",
    "<h3 style=\"color:gray\">13. Tournament Tree (Winner Tree) and Binary Heap </h3>\n",
    "\n",
    "\n",
    "[Heap](#heap) "
   ]
  },
  {
   "cell_type": "markdown",
   "metadata": {},
   "source": [
    "<a id='heap14'></a>\n",
    "<h3 style=\"color:gray\">14. Check if a given Binary Tree is Heap </h3>\n",
    "\n",
    "\n",
    "[Heap](#heap) "
   ]
  },
  {
   "cell_type": "markdown",
   "metadata": {},
   "source": [
    "<a id='heap15'></a>\n",
    "<h3 style=\"color:gray\">15. How to check if a given array represents a Binary Heap? </h3>\n",
    "\n",
    "\n",
    "[Heap](#heap) "
   ]
  },
  {
   "cell_type": "markdown",
   "metadata": {},
   "source": [
    "<a id='heap16'></a>\n",
    "<h3 style=\"color:gray\">16. Connect n ropes with minimum cost </h3>\n",
    "\n",
    "\n",
    "[Heap](#heap) "
   ]
  },
  {
   "cell_type": "markdown",
   "metadata": {},
   "source": [
    "<a id='heap17'></a>\n",
    "<h3 style=\"color:gray\">17. Design an efficient data structure for given operations </h3>\n",
    "\n",
    "\n",
    "[Heap](#heap) "
   ]
  },
  {
   "cell_type": "markdown",
   "metadata": {},
   "source": [
    "<a id='heap18'></a>\n",
    "<h3 style=\"color:gray\">18. Merge k sorted arrays | Set 1 </h3>\n",
    "\n",
    "\n",
    "[Heap](#heap) "
   ]
  },
  {
   "cell_type": "markdown",
   "metadata": {},
   "source": [
    "<a id='heap19'></a>\n",
    "<h3 style=\"color:gray\">19. Merge Sort Tree for Range Order Statistics </h3>\n",
    "\n",
    "\n",
    "[Heap](#heap) "
   ]
  },
  {
   "cell_type": "markdown",
   "metadata": {},
   "source": [
    "<a id='heap20'></a>\n",
    "<h3 style=\"color:gray\">20. Sort numbers stored on different machines </h3>\n",
    "\n",
    "\n",
    "[Heap](#heap) "
   ]
  },
  {
   "cell_type": "markdown",
   "metadata": {},
   "source": [
    "<a id='heap21'></a>\n",
    "<h3 style=\"color:gray\">21. Smallest Derangement of Sequence </h3>\n",
    "\n",
    "\n",
    "[Heap](#heap) "
   ]
  },
  {
   "cell_type": "markdown",
   "metadata": {},
   "source": [
    "<a id='heap22'></a>\n",
    "<h3 style=\"color:gray\">22. Largest Derangement of a Sequence </h3>\n",
    "\n",
    "\n",
    "[Heap](#heap) "
   ]
  },
  {
   "cell_type": "markdown",
   "metadata": {},
   "source": [
    "<a id='heap23'></a>\n",
    "<h3 style=\"color:gray\">23. K maximum sum combinations from two arrays </h3>\n",
    "\n",
    "\n",
    "[Heap](#heap) "
   ]
  },
  {
   "cell_type": "markdown",
   "metadata": {},
   "source": [
    "<a id='heap24'></a>\n",
    "<h3 style=\"color:gray\">24. Maximum distinct elements after removing k elements </h3>\n",
    "\n",
    "\n",
    "[Heap](#heap) "
   ]
  },
  {
   "cell_type": "markdown",
   "metadata": {},
   "source": [
    "<a id='heap25'></a>\n",
    "<h3 style=\"color:gray\">25. Maximum difference between two subsets of m elements </h3>\n",
    "\n",
    "\n",
    "[Heap](#heap) "
   ]
  },
  {
   "cell_type": "markdown",
   "metadata": {},
   "source": [
    "<a id='heap26'></a>\n",
    "<h3 style=\"color:gray\">26. Height of a complete binary tree (or Heap) with N nodes </h3>\n",
    "\n",
    "\n",
    "[Heap](#heap) "
   ]
  },
  {
   "cell_type": "markdown",
   "metadata": {},
   "source": [
    "<a id='heap27'></a>\n",
    "<h3 style=\"color:gray\">27. Heap Sort for decreasing order using min heap </h3>\n",
    "\n",
    "\n",
    "[Heap](#heap) "
   ]
  },
  {
   "cell_type": "markdown",
   "metadata": {},
   "source": [
    "<a id='heap28'></a>\n",
    "<h3 style=\"color:gray\">28. Print all nodes less than a value x in a Min Heap. </h3>\n",
    "\n",
    "\n",
    "[Heap](#heap) "
   ]
  },
  {
   "cell_type": "markdown",
   "metadata": {},
   "source": [
    "<a id='heap29'></a>\n",
    "<h3 style=\"color:gray\">29. Median of Stream of Running Integers using STL </h3>\n",
    "\n",
    "\n",
    "[Heap](#heap) "
   ]
  },
  {
   "cell_type": "markdown",
   "metadata": {},
   "source": [
    "<a id='heap30'></a>\n",
    "<h3 style=\"color:gray\">30. Largest triplet product in a stream </h3>\n",
    "\n",
    "\n",
    "[Heap](#heap) "
   ]
  },
  {
   "cell_type": "markdown",
   "metadata": {},
   "source": [
    "<a id='heap31'></a>\n",
    "<h3 style=\"color:gray\">31. Find k numbers with most occurrences in the given array </h3>\n",
    "\n",
    "\n",
    "[Heap](#heap) "
   ]
  },
  {
   "cell_type": "markdown",
   "metadata": {},
   "source": [
    "<a id='heap32'></a>\n",
    "<h3 style=\"color:gray\">32. Convert BST to Min Heap </h3>\n",
    "\n",
    "\n",
    "[Heap](#heap) "
   ]
  },
  {
   "cell_type": "markdown",
   "metadata": {},
   "source": [
    "<a id='heap33'></a>\n",
    "<h3 style=\"color:gray\">33. Merge two binary Max Heaps </h3>\n",
    "\n",
    "\n",
    "[Heap](#heap) "
   ]
  },
  {
   "cell_type": "markdown",
   "metadata": {},
   "source": [
    "<a id='heap34'></a>\n",
    "<h3 style=\"color:gray\">34. K-th Largest Sum Contiguous Subarray </h3>\n",
    "\n",
    "\n",
    "[Heap](#heap) "
   ]
  },
  {
   "cell_type": "markdown",
   "metadata": {},
   "source": [
    "<a id='heap35'></a>\n",
    "<h3 style=\"color:gray\">35. Minimum product of k integers in an array of positive Integers </h3>\n",
    "\n",
    "\n",
    "[Heap](#heap) "
   ]
  },
  {
   "cell_type": "markdown",
   "metadata": {},
   "source": [
    "<a id='heap36'></a>\n",
    "<h3 style=\"color:gray\">36. Leaf starting point in a Binary Heap data structure </h3>\n",
    "\n",
    "\n",
    "[Heap](#heap) "
   ]
  },
  {
   "cell_type": "markdown",
   "metadata": {},
   "source": [
    "<a id='heap37'></a>\n",
    "<h3 style=\"color:gray\">37. Why is Binary Heap Preferred over BST for Priority Queue? </h3>\n",
    "\n",
    "\n",
    "[Heap](#heap) "
   ]
  },
  {
   "cell_type": "markdown",
   "metadata": {},
   "source": [
    "<a id='heap38'></a>\n",
    "<h3 style=\"color:gray\">38. Convert min Heap to max Heap </h3>\n",
    "\n",
    "\n",
    "[Heap](#heap) "
   ]
  },
  {
   "cell_type": "markdown",
   "metadata": {},
   "source": [
    "<a id='heap39'></a>\n",
    "<h3 style=\"color:gray\">39. Given level order traversal of a Binary Tree, check if the Tree is a Min-Heap </h3>\n",
    "\n",
    "\n",
    "[Heap](#heap) "
   ]
  },
  {
   "cell_type": "markdown",
   "metadata": {},
   "source": [
    "<a id='heap40'></a>\n",
    "<h3 style=\"color:gray\">40. Rearrange characters in a string such that no two adjacent are same </h3>\n",
    "\n",
    "\n",
    "[Heap](#heap) "
   ]
  },
  {
   "cell_type": "markdown",
   "metadata": {},
   "source": [
    "<a id='heap41'></a>\n",
    "<h3 style=\"color:gray\">41. Implementation of Binomial Heap </h3>\n",
    "\n",
    "\n",
    "[Heap](#heap) "
   ]
  },
  {
   "cell_type": "markdown",
   "metadata": {},
   "source": [
    "<a id='heap42'></a>\n",
    "<h3 style=\"color:gray\">42. Array Representation Of Binary Heap </h3>\n",
    "\n",
    "\n",
    "[Heap](#heap) "
   ]
  },
  {
   "cell_type": "markdown",
   "metadata": {},
   "source": [
    "<a id='heap43'></a>\n",
    "<h3 style=\"color:gray\">43. Sum of all elements between k1’th and k2’th smallest elements </h3>\n",
    "\n",
    "\n",
    "[Heap](#heap) "
   ]
  },
  {
   "cell_type": "markdown",
   "metadata": {},
   "source": [
    "<a id='heap44'></a>\n",
    "<h3 style=\"color:gray\">44. Minimum sum of two numbers formed from digits of an array </h3>\n",
    "\n",
    "\n",
    "[Heap](#heap) "
   ]
  },
  {
   "cell_type": "markdown",
   "metadata": {},
   "source": [
    "<a id='heap45'></a>\n",
    "<h3 style=\"color:gray\">45. K’th largest element in a stream </h3>\n",
    "\n",
    "\n",
    "[Heap](#heap) "
   ]
  },
  {
   "cell_type": "markdown",
   "metadata": {},
   "source": [
    "<a id='heap46'></a>\n",
    "<h3 style=\"color:gray\">46. k largest(or smallest) elements in an array | added Min Heap method </h3>\n",
    "\n",
    "\n",
    "[Heap](#heap) "
   ]
  },
  {
   "cell_type": "markdown",
   "metadata": {},
   "source": [
    "<a id='heap47'></a>\n",
    "<h3 style=\"color:gray\">47. Median in a stream of integers (running integers) </h3>\n",
    "\n",
    "\n",
    "[Heap](#heap) "
   ]
  },
  {
   "cell_type": "code",
   "execution_count": null,
   "metadata": {},
   "outputs": [],
   "source": []
  }
 ],
 "metadata": {
  "kernelspec": {
   "display_name": "Python 3 (ipykernel)",
   "language": "python",
   "name": "python3"
  },
  "language_info": {
   "codemirror_mode": {
    "name": "ipython",
    "version": 3
   },
   "file_extension": ".py",
   "mimetype": "text/x-python",
   "name": "python",
   "nbconvert_exporter": "python",
   "pygments_lexer": "ipython3",
   "version": "3.10.1"
  }
 },
 "nbformat": 4,
 "nbformat_minor": 4
}
